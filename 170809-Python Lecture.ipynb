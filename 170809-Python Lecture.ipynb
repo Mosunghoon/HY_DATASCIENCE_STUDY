{
 "cells": [
  {
   "cell_type": "code",
   "execution_count": 1,
   "metadata": {
    "scrolled": false
   },
   "outputs": [
    {
     "name": "stdout",
     "output_type": "stream",
     "text": [
      "Fighting\n",
      "Fighting\n",
      "Fighting\n",
      "Fighting\n",
      "Fighting\n",
      "Fighting\n",
      "Fighting\n",
      "Fighting\n"
     ]
    }
   ],
   "source": [
    "#####for, While 구문에 대하여\n",
    "\n",
    "i = 0\n",
    "while i < 8:\n",
    "    print(\"Fighting\")\n",
    "    i = i+1"
   ]
  },
  {
   "cell_type": "code",
   "execution_count": null,
   "metadata": {
    "collapsed": true
   },
   "outputs": [],
   "source": [
    "import turtle as t\n",
    "t.shape(\"turtle\")"
   ]
  },
  {
   "cell_type": "code",
   "execution_count": null,
   "metadata": {
    "collapsed": true
   },
   "outputs": [],
   "source": [
    "#For 구문 활용\n",
    "for i in range(8):\n",
    "    print(\"Fighting\")"
   ]
  },
  {
   "cell_type": "code",
   "execution_count": null,
   "metadata": {
    "collapsed": true
   },
   "outputs": [],
   "source": [
    "##\n",
    "import turtle as t\n",
    "t.shape(\"turtle\")"
   ]
  },
  {
   "cell_type": "code",
   "execution_count": null,
   "metadata": {
    "collapsed": true
   },
   "outputs": [],
   "source": [
    "for x in range(100):\n",
    "    t.forward(100)\n",
    "    t.left(36)"
   ]
  },
  {
   "cell_type": "code",
   "execution_count": null,
   "metadata": {
    "collapsed": true
   },
   "outputs": [],
   "source": [
    "for x in range(36):\n",
    "    t.circle(100)\n",
    "    t.right(10)"
   ]
  },
  {
   "cell_type": "code",
   "execution_count": null,
   "metadata": {
    "collapsed": true
   },
   "outputs": [],
   "source": [
    "## while은 한번 실행 때마다 조건을 검토한다\n",
    "## for은 그저 레인지에 따라 계속 실행하기 때문에 for는 while보다 조금 수월하게 진행시킬 수 있다.\n",
    "\n",
    "## 30명 중에 생일이 같은 사람이 있을 확률은?\n",
    "import numpy as np"
   ]
  },
  {
   "cell_type": "code",
   "execution_count": null,
   "metadata": {
    "collapsed": true
   },
   "outputs": [],
   "source": [
    "numstudents = 8\n",
    "numTrials = 10000\n",
    "numWithSameBday = 0\n",
    "\n",
    "for trial in range(numTrials):\n",
    "    year = [0] * 365\n",
    "\n",
    "    for i in range(numstudents):\n",
    "        newBDay = np.random.randint(365)\n",
    "        year[newBDay] = year[newBDay] + 1\n",
    "        haveSameBday = False\n",
    "\n",
    "    for num in year:\n",
    "        if num > 1:\n",
    "            haveSameBday = True\n",
    "\n",
    "    if haveSameBday == True:\n",
    "        numWithSameBday = numWithSameBday + 1\n",
    "\n",
    "prob = float(numWithSameBday) / float(numTrials)\n",
    "\n",
    "print(numstudents, \"명 중 생일이 같은 사람이 있을 확률은 \", prob, \"입니다\")"
   ]
  }
 ],
 "metadata": {
  "kernelspec": {
   "display_name": "Python 3",
   "language": "python",
   "name": "python3"
  },
  "language_info": {
   "codemirror_mode": {
    "name": "ipython",
    "version": 3
   },
   "file_extension": ".py",
   "mimetype": "text/x-python",
   "name": "python",
   "nbconvert_exporter": "python",
   "pygments_lexer": "ipython3",
   "version": "3.6.1"
  }
 },
 "nbformat": 4,
 "nbformat_minor": 2
}
