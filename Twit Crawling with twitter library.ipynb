{
 "cells": [
  {
   "cell_type": "code",
   "execution_count": 4,
   "metadata": {},
   "outputs": [
    {
     "name": "stdout",
     "output_type": "stream",
     "text": [
      "b'cesaradelawad' : b\"RT @Squawka: ON THIS DAY: In 2004, Man Utd signed Wayne Rooney for \\xc2\\xa330m from Everton.\\n\\nThe club's all-time leading scorer with 253 goals.\\xe2\\x80\\xa6\"\n",
      "b'Nohayi' : b'RT @premierleague: Leader. Legend. Goalkeeper?\\n\\nLucas Radebe gained instant cult status when he went between the sticks against Man Utd for\\xe2\\x80\\xa6'\n",
      "b'NotSoClever45' : b'@StanCollymore What happened to the 2 marquee signing you heard man utd were going to try and do this summer ? has the levy to break first?'\n",
      "b'NhlanhlaGemini' : b'RT @premierleague: Leader. Legend. Goalkeeper?\\n\\nLucas Radebe gained instant cult status when he went between the sticks against Man Utd for\\xe2\\x80\\xa6'\n",
      "b'MatthewKillian1' : b'RT @premierleague: Leader. Legend. Goalkeeper?\\n\\nLucas Radebe gained instant cult status when he went between the sticks against Man Utd for\\xe2\\x80\\xa6'\n",
      "b'GwaanThaGod' : b'RT @premierleague: Leader. Legend. Goalkeeper?\\n\\nLucas Radebe gained instant cult status when he went between the sticks against Man Utd for\\xe2\\x80\\xa6'\n",
      "b'danieliyayi94' : b'@damildrizzy He is exceptional... \\nA pure talent... He will be a good signing for Man Utd'\n",
      "b'Ahunsi_' : b'RT @Alkalee_Musa: On behalf of all Man Utd fans\\nWe have to decline this and pass him on to Agbero FC aka Chelsea. https://t.co/i2pAM52s0t'\n",
      "b'gachiPtune' : b'RT @Qoly_Live: \\xe3\\x82\\xa4\\xe3\\x83\\x96\\xe3\\x83\\xa9\\xe3\\x83\\x92\\xe3\\x83\\xa2\\xe3\\x83\\xb4\\xe3\\x82\\xa3\\xe3\\x83\\x83\\xe3\\x83\\x81\\xe3\\x81\\xaf\\xe3\\x80\\x81\\xe7\\xb5\\x90\\xe5\\xb1\\x80\\xe3\\x81\\x84\\xe3\\x81\\xa4\\xe6\\x80\\xaa\\xe6\\x88\\x91\\xe3\\x81\\x8b\\xe3\\x82\\x89\\xe5\\xbe\\xa9\\xe5\\xb8\\xb0\\xe3\\x81\\x99\\xe3\\x82\\x8b\\xe3\\x81\\xae\\xe3\\x81\\x8b\\xef\\xbc\\x9f https://t.co/ooe7jlhnAw'\n",
      "b'BumperToJumper' : b'@JSLayton1992 Man Utd !!! Pogba super agent at again on pitch last sat covering there mouth at end of game while ta\\xe2\\x80\\xa6 https://t.co/CPi2gCwQcU'\n",
      "b'tukei_' : b'RT @HistorySport_: Former Man Utd Superstars David Beckham and Dwight Yorke enjoy a pre-seaon barbecue. https://t.co/UwlXb4mDIR'\n",
      "b'PhutiTuba' : b'RT @premierleague: Leader. Legend. Goalkeeper?\\n\\nLucas Radebe gained instant cult status when he went between the sticks against Man Utd for\\xe2\\x80\\xa6'\n",
      "b'wandihamzah06' : b\"RT @Squawka: ON THIS DAY: In 2004, Man Utd signed Wayne Rooney for \\xc2\\xa330m from Everton.\\n\\nThe club's all-time leading scorer with 253 goals.\\xe2\\x80\\xa6\"\n",
      "b'Winnerr_' : b\"RT @Squawka: ON THIS DAY: In 2004, Man Utd signed Wayne Rooney for \\xc2\\xa330m from Everton.\\n\\nThe club's all-time leading scorer with 253 goals.\\xe2\\x80\\xa6\"\n",
      "b'livefootball' : b'\\xf0\\x9f\\x92\\xa5 HARRY KANE BOOST \\xf0\\x9f\\x92\\xa5\\n\\nGet a HUGE 33/1 on the England striker to score against minnows Malta \\xe2\\x96\\xb6\\xef\\xb8\\x8f\\xe2\\x80\\xa6 https://t.co/d7ovyvuhBI'\n"
     ]
    }
   ],
   "source": [
    "from twython import Twython\n",
    "\n",
    "CONSUMER_KEY = \"나의것\"\n",
    "CONSUMER_SECRET = \"너의것\"\n",
    "ACCESS_TOKEN = \"누구의것\"\n",
    "ACCESS_TOKEN_SECRET = \"아무것\"\n",
    "\n",
    "twitter = Twython(CONSUMER_KEY, CONSUMER_SECRET)\n",
    "\n",
    "# '''data science'''라는 키워드가 들어있는 트윗 검색\n",
    "for status in twitter.search(q='''man utd''')[\"statuses\"]:\n",
    "    user = status[\"user\"][\"screen_name\"].encode('utf-8')\n",
    "    text = status[\"text\"].encode('utf-8')\n",
    "    print(user, \":\", text)"
   ]
  },
  {
   "cell_type": "code",
   "execution_count": 26,
   "metadata": {
    "collapsed": true
   },
   "outputs": [],
   "source": [
    "from twython import TwythonStreamer\n",
    "# 데이터\n",
    "tweets = []\n",
    "\n",
    "class MyStreamer(TwythonStreamer):\n",
    "    '''Streaming API를 어떻게 사용할지 명시하기 위해 직접 만든 TwythonStreamer의 하위 클래스'''\n",
    "    def on_success(self, data):\n",
    "        '''트위터에서 보내 온 데이터를 어떻게 처리할까? 여기서는 트윗을 dict 형태로 유지할 것이다.'''\n",
    "        # 영어로 작성된 트윗만 원한다면\n",
    "        if data['lang'] == 'en':\n",
    "            tweets.append(data)\n",
    "            print(\"received tweet #\", len(tweets))\n",
    "            \n",
    "        # 트윗을 적당히 모았다면 멈춤\n",
    "        if len(tweets) >= 30:\n",
    "            len(tweets) = 0\n",
    "            self.disconnect()\n",
    "            \n",
    "    def on_error(self, status_code, data):\n",
    "        print(status_code, data)\n",
    "        self.disconnect()"
   ]
  },
  {
   "cell_type": "code",
   "execution_count": 36,
   "metadata": {},
   "outputs": [
    {
     "name": "stdout",
     "output_type": "stream",
     "text": [
      "received tweet # 33\n"
     ]
    }
   ],
   "source": [
    "stream = MyStreamer(CONSUMER_KEY, CONSUMER_SECRET, ACCESS_TOKEN, ACCESS_TOKEN_SECRET)\n",
    "# 공개된 트윗 중 data라는 키워드를 포함하고 있는 트윗을 받아 오기 시작함.\n",
    "stream.statuses.filter(track='man utd')\n",
    "\n",
    "#만약 공개된 모든 트윗을 받아 오고 싶다면 아래 코드\n",
    "# stream.status.sample()"
   ]
  },
  {
   "cell_type": "code",
   "execution_count": 41,
   "metadata": {
    "collapsed": true,
    "scrolled": true
   },
   "outputs": [],
   "source": [
    "from twython import TwythonStreamer\n",
    "# 데이터\n",
    "tweets = []\n",
    "\n",
    "class MyStreamer(TwythonStreamer):\n",
    "    def on_success(self, data):\n",
    "        if 'text' in data:\n",
    "            print(data['text'].encode('utf-8'))\n",
    "\n",
    "    def on_error(self, status_code, data):\n",
    "        print(status_code)"
   ]
  },
  {
   "cell_type": "code",
   "execution_count": null,
   "metadata": {},
   "outputs": [
    {
     "name": "stdout",
     "output_type": "stream",
     "text": [
      "b'RT @premierleague: Leader. Legend. Goalkeeper?\\n\\nLucas Radebe gained instant cult status when he went between the sticks against Man Ut\\xe2\\x80\\xa6 '\n",
      "b'Transfer news: The latest rumours from Man Utd, Chelsea, Arsenal and all the top teams https://t.co/xzoGYuPLBn'\n",
      "b\"RT @otoiks: No wonder they all hate Man Utd. Can't even add their premier League totals to get up to Utd's. Tragic\"\n",
      "b'RT @premierleague: Leader. Legend. Goalkeeper?\\n\\nLucas Radebe gained instant cult status when he went between the sticks against Man Ut\\xe2\\x80\\xa6 '\n",
      "b'RT @premierleague: Leader. Legend. Goalkeeper?\\n\\nLucas Radebe gained instant cult status when he went between the sticks against Man Ut\\xe2\\x80\\xa6 '\n",
      "b'RT @premierleague: Man Utd have never won a #PL title after starting season with 3\\xef\\xb8\\x8f\\xe2\\x83\\xa3 clean sheets, but there is reason for optimism:\\xe2\\x80\\xa6 '\n",
      "b'RT @thaboDegreat: LEGEND!!! https://t.co/Ka37ya1hEh'\n",
      "b'RT @premierleague: Leader. Legend. Goalkeeper?\\n\\nLucas Radebe gained instant cult status when he went between the sticks against Man Ut\\xe2\\x80\\xa6 '\n",
      "b'Man Utd Transfer News: Inter Milan battle, agent confirms talks,... https://t.co/FC0GTz3bgm #transfernews'\n",
      "b'RT @nacho8gonz: La noticia es que Mourinho tiene tel\\xc3\\xa9fono. Un tel\\xc3\\xa9fono con el que hace llamadas. Para comunicarse con otros seres h\\xe2\\x80\\xa6 '\n",
      "b'Steve Bruce scored two late goals, inc a 97th-minute winner, as Man Utd came from behind to beat Sheffield Wednesda\\xe2\\x80\\xa6 https://t.co/wKsVYgAHvv'\n",
      "b'RT @premierleague: Man Utd have never won a #PL title after starting season with 3\\xef\\xb8\\x8f\\xe2\\x83\\xa3 clean sheets, but there is reason for optimism:\\xe2\\x80\\xa6 '\n",
      "b'RT @premierleague: Man Utd have never won a #PL title after starting season with 3\\xef\\xb8\\x8f\\xe2\\x83\\xa3 clean sheets, but there is reason for optimism:\\xe2\\x80\\xa6 '\n",
      "b'RT @premierleague: Leader. Legend. Goalkeeper?\\n\\nLucas Radebe gained instant cult status when he went between the sticks against Man Ut\\xe2\\x80\\xa6 '\n",
      "b'Euro Paper Talk: Agent ends talk of Man Utd, PSG target moving; Nani&amp;#8217;s shock switch https://t.co/JyvKmC4J8V'\n",
      "b'Transfer news: Most likely deadline day deals according to the bookies https://t.co/T3Af5seIlh https://t.co/heCZd2gUaL'\n",
      "b'Proud South African moment @LucasRadebe \\xf0\\x9f\\x91\\x8f\\xf0\\x9f\\x8f\\xbf https://t.co/pCiUY1SMcX'\n",
      "b'RT @premierleague: Leader. Legend. Goalkeeper?\\n\\nLucas Radebe gained instant cult status when he went between the sticks against Man Ut\\xe2\\x80\\xa6 '\n",
      "b'RT @premierleague: Leader. Legend. Goalkeeper?\\n\\nLucas Radebe gained instant cult status when he went between the sticks against Man Ut\\xe2\\x80\\xa6 '\n",
      "b'RT @premierleague: Man Utd have never won a #PL title after starting season with 3\\xef\\xb8\\x8f\\xe2\\x83\\xa3 clean sheets, but there is reason for optimism:\\xe2\\x80\\xa6 '\n",
      "b'RT @premierleague: Man Utd have never won a #PL title after starting season with 3\\xef\\xb8\\x8f\\xe2\\x83\\xa3 clean sheets, but there is reason for optimism:\\xe2\\x80\\xa6 '\n",
      "b'RT @premierleague: Man Utd have never won a #PL title after starting season with 3\\xef\\xb8\\x8f\\xe2\\x83\\xa3 clean sheets, but there is reason for optimism:\\xe2\\x80\\xa6 '\n",
      "b'RT @premierleague: Man Utd have never won a #PL title after starting season with 3\\xef\\xb8\\x8f\\xe2\\x83\\xa3 clean sheets, but there is reason for optimism:\\xe2\\x80\\xa6 '\n",
      "b'RT @premierleague: Leader. Legend. Goalkeeper?\\n\\nLucas Radebe gained instant cult status when he went between the sticks against Man Ut\\xe2\\x80\\xa6 '\n",
      "b'RT @premierleague: Leader. Legend. Goalkeeper?\\n\\nLucas Radebe gained instant cult status when he went between the sticks against Man Ut\\xe2\\x80\\xa6 '\n",
      "b'RT @NWPremierLeague: RUMOURS: Southampton preparing to lose Van Dijk &amp; Fonte to Liverpool &amp; Man Utd https://t.co/LyYwHWPBLz'\n",
      "b'RT @premierleague: Leader. Legend. Goalkeeper?\\n\\nLucas Radebe gained instant cult status when he went between the sticks against Man Ut\\xe2\\x80\\xa6 '\n",
      "b'RT @premierleague: Leader. Legend. Goalkeeper?\\n\\nLucas Radebe gained instant cult status when he went between the sticks against Man Ut\\xe2\\x80\\xa6 '\n",
      "b'RT @premierleague: Leader. Legend. Goalkeeper?\\n\\nLucas Radebe gained instant cult status when he went between the sticks against Man Ut\\xe2\\x80\\xa6 '\n",
      "b'RT @premierleague: Man Utd have never won a #PL title after starting season with 3\\xef\\xb8\\x8f\\xe2\\x83\\xa3 clean sheets, but there is reason for optimism:\\xe2\\x80\\xa6 '\n",
      "b'RT @premierleague: Man Utd have never won a #PL title after starting season with 3\\xef\\xb8\\x8f\\xe2\\x83\\xa3 clean sheets, but there is reason for optimism:\\xe2\\x80\\xa6 '\n",
      "b'RT @premierleague: Leader. Legend. Goalkeeper?\\n\\nLucas Radebe gained instant cult status when he went between the sticks against Man Ut\\xe2\\x80\\xa6 '\n",
      "b'What a legend.... https://t.co/UuZYCffvZR'\n",
      "b'RT @premierleague: Leader. Legend. Goalkeeper?\\n\\nLucas Radebe gained instant cult status when he went between the sticks against Man Ut\\xe2\\x80\\xa6 '\n",
      "b'RT @premierleague: Leader. Legend. Goalkeeper?\\n\\nLucas Radebe gained instant cult status when he went between the sticks against Man Ut\\xe2\\x80\\xa6 '\n",
      "b'RT @kosigerryofor: What a stat \\xf0\\x9f\\x98\\x82\\xf0\\x9f\\x98\\x82\\xf0\\x9f\\x98\\x82 https://t.co/1CkJUDNo7Y'\n",
      "b'Classic example of a Great South African who did whatever it takes to become a Legend amongst his peers...What a Ch\\xe2\\x80\\xa6 https://t.co/vFlDuDBEuw'\n",
      "b'RT @premierleague: Leader. Legend. Goalkeeper?\\n\\nLucas Radebe gained instant cult status when he went between the sticks against Man Ut\\xe2\\x80\\xa6 '\n",
      "b'RT @premierleague: Man Utd have never won a #PL title after starting season with 3\\xef\\xb8\\x8f\\xe2\\x83\\xa3 clean sheets, but there is reason for optimism:\\xe2\\x80\\xa6 '\n",
      "b'RT @premierleague: Man Utd have never won a #PL title after starting season with 3\\xef\\xb8\\x8f\\xe2\\x83\\xa3 clean sheets, but there is reason for optimism:\\xe2\\x80\\xa6 '\n",
      "b'Great effort. Fucking awesome https://t.co/2fUF8XFQiP'\n"
     ]
    }
   ],
   "source": [
    "stream = MyStreamer(CONSUMER_KEY, CONSUMER_SECRET, ACCESS_TOKEN, ACCESS_TOKEN_SECRET)\n",
    "# 공개된 트윗 중 data라는 키워드를 포함하고 있는 트윗을 받아 오기 시작함.\n",
    "stream.statuses.filter(track='man utd')"
   ]
  },
  {
   "cell_type": "code",
   "execution_count": null,
   "metadata": {
    "collapsed": true
   },
   "outputs": [],
   "source": []
  }
 ],
 "metadata": {
  "kernelspec": {
   "display_name": "Python 3",
   "language": "python",
   "name": "python3"
  },
  "language_info": {
   "codemirror_mode": {
    "name": "ipython",
    "version": 3
   },
   "file_extension": ".py",
   "mimetype": "text/x-python",
   "name": "python",
   "nbconvert_exporter": "python",
   "pygments_lexer": "ipython3",
   "version": "3.6.1"
  }
 },
 "nbformat": 4,
 "nbformat_minor": 1
}
