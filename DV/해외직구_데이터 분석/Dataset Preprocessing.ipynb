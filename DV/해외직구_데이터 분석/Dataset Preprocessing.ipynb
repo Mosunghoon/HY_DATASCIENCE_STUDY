{
 "cells": [
  {
   "cell_type": "markdown",
   "metadata": {},
   "source": [
    "### Data Preprocessing - 유사 단어 골라 통일시키기"
   ]
  },
  {
   "cell_type": "markdown",
   "metadata": {},
   "source": [
    "- 유사단어들을 골라서 통일시킬 필요가 있음\n",
    "- 몰테일, 몰꼬리, 몰텔 등은 모두 같은 것을 의미함\n",
    "- punctuation(.,; 등) 제거가 명확하게 이뤄지지 않음 -> 문장 수준에서 분석하는 것이 아니기에 '.'은 제거하자(일단 보류)"
   ]
  },
  {
   "cell_type": "code",
   "execution_count": 188,
   "metadata": {},
   "outputs": [],
   "source": [
    "import pandas as pd"
   ]
  },
  {
   "cell_type": "code",
   "execution_count": 189,
   "metadata": {},
   "outputs": [],
   "source": [
    "#데이터 불러오기\n",
    "dataset = pd.read_excel('dataset3.xlsx')"
   ]
  },
  {
   "cell_type": "code",
   "execution_count": 191,
   "metadata": {},
   "outputs": [],
   "source": [
    "#기존 데이터 셋에 빈 인덱스 값이 있어 다시 인덱스값 부여\n",
    "dataset = dataset.reset_index()"
   ]
  },
  {
   "cell_type": "code",
   "execution_count": 211,
   "metadata": {},
   "outputs": [
    {
     "data": {
      "text/html": [
       "<div>\n",
       "<style scoped>\n",
       "    .dataframe tbody tr th:only-of-type {\n",
       "        vertical-align: middle;\n",
       "    }\n",
       "\n",
       "    .dataframe tbody tr th {\n",
       "        vertical-align: top;\n",
       "    }\n",
       "\n",
       "    .dataframe thead th {\n",
       "        text-align: right;\n",
       "    }\n",
       "</style>\n",
       "<table border=\"1\" class=\"dataframe\">\n",
       "  <thead>\n",
       "    <tr style=\"text-align: right;\">\n",
       "      <th></th>\n",
       "      <th>index</th>\n",
       "      <th>year</th>\n",
       "      <th>month</th>\n",
       "      <th>VoC</th>\n",
       "      <th>keyword</th>\n",
       "    </tr>\n",
       "  </thead>\n",
       "  <tbody>\n",
       "    <tr>\n",
       "      <th>0</th>\n",
       "      <td>0</td>\n",
       "      <td>2014</td>\n",
       "      <td>8</td>\n",
       "      <td>관부가세 납부했는데        낮에 문자 받고 관부가세를 카드로택스에 접속해서 카...</td>\n",
       "      <td>해외직구</td>\n",
       "    </tr>\n",
       "    <tr>\n",
       "      <th>1</th>\n",
       "      <td>1</td>\n",
       "      <td>2014</td>\n",
       "      <td>8</td>\n",
       "      <td>10월에 실시하는 위약4 관련해서 중국핸드폰업체들이 바빠지기 시작한 모양이더군요  ...</td>\n",
       "      <td>해외직구</td>\n",
       "    </tr>\n",
       "    <tr>\n",
       "      <th>2</th>\n",
       "      <td>2</td>\n",
       "      <td>2014</td>\n",
       "      <td>8</td>\n",
       "      <td>60lb7100 전원안들어와서 as왔다갔네요        어제저녁에갑자기픽하고꺼지더...</td>\n",
       "      <td>해외직구</td>\n",
       "    </tr>\n",
       "    <tr>\n",
       "      <th>3</th>\n",
       "      <td>3</td>\n",
       "      <td>2014</td>\n",
       "      <td>8</td>\n",
       "      <td>해외직구 삼성 PDP F8500 모델 안테나 연결 단자 파손 / SOS       ...</td>\n",
       "      <td>해외직구</td>\n",
       "    </tr>\n",
       "    <tr>\n",
       "      <th>4</th>\n",
       "      <td>4</td>\n",
       "      <td>2014</td>\n",
       "      <td>8</td>\n",
       "      <td>아아 누크 hd도사서 누크hd+랑 세트만들려고하는뎅        누크hd 적당한 매...</td>\n",
       "      <td>해외직구</td>\n",
       "    </tr>\n",
       "  </tbody>\n",
       "</table>\n",
       "</div>"
      ],
      "text/plain": [
       "   index  year  month                                                VoC  \\\n",
       "0      0  2014      8  관부가세 납부했는데        낮에 문자 받고 관부가세를 카드로택스에 접속해서 카...   \n",
       "1      1  2014      8  10월에 실시하는 위약4 관련해서 중국핸드폰업체들이 바빠지기 시작한 모양이더군요  ...   \n",
       "2      2  2014      8  60lb7100 전원안들어와서 as왔다갔네요        어제저녁에갑자기픽하고꺼지더...   \n",
       "3      3  2014      8  해외직구 삼성 PDP F8500 모델 안테나 연결 단자 파손 / SOS       ...   \n",
       "4      4  2014      8  아아 누크 hd도사서 누크hd+랑 세트만들려고하는뎅        누크hd 적당한 매...   \n",
       "\n",
       "  keyword  \n",
       "0    해외직구  \n",
       "1    해외직구  \n",
       "2    해외직구  \n",
       "3    해외직구  \n",
       "4    해외직구  "
      ]
     },
     "execution_count": 211,
     "metadata": {},
     "output_type": "execute_result"
    }
   ],
   "source": [
    "dataset.head()"
   ]
  },
  {
   "cell_type": "code",
   "execution_count": 229,
   "metadata": {},
   "outputs": [],
   "source": [
    "#몰꼬리->몰테일\n",
    "text_list=[]\n",
    "for i in range(0,len(dataset)):\n",
    "    text = str(dataset.loc[i]['VoC'])\n",
    "    if '몰꼬리' in text:\n",
    "        text = text.replace('몰꼬리','몰테일')\n",
    "        text_list.append(text)\n",
    "    else:\n",
    "        text_list.append(text)"
   ]
  },
  {
   "cell_type": "code",
   "execution_count": 237,
   "metadata": {},
   "outputs": [],
   "source": [
    "#\\r -> ''\n",
    "txt_list=[]\n",
    "for k in text_list:\n",
    "    txt = str(k)\n",
    "    if '\\r' in txt:\n",
    "        txt = txt.replace('\\r','')\n",
    "        txt_list.append(txt)\n",
    "    else:\n",
    "        txt_list.append(txt)"
   ]
  },
  {
   "cell_type": "code",
   "execution_count": 240,
   "metadata": {},
   "outputs": [],
   "source": [
    "#새로운 데이터셋으로 만들기\n",
    "dataset2 = pd.DataFrame({\"index\":list(dataset['index']),\n",
    "                         \"year\":list(dataset['year']),\n",
    "                         \"month\":list(dataset['month']),\n",
    "                         \"VoC\":txt_list,\n",
    "                         \"keyword\":list(dataset['keyword'])\n",
    "                        })"
   ]
  },
  {
   "cell_type": "code",
   "execution_count": 241,
   "metadata": {},
   "outputs": [
    {
     "data": {
      "text/html": [
       "<div>\n",
       "<style scoped>\n",
       "    .dataframe tbody tr th:only-of-type {\n",
       "        vertical-align: middle;\n",
       "    }\n",
       "\n",
       "    .dataframe tbody tr th {\n",
       "        vertical-align: top;\n",
       "    }\n",
       "\n",
       "    .dataframe thead th {\n",
       "        text-align: right;\n",
       "    }\n",
       "</style>\n",
       "<table border=\"1\" class=\"dataframe\">\n",
       "  <thead>\n",
       "    <tr style=\"text-align: right;\">\n",
       "      <th></th>\n",
       "      <th>VoC</th>\n",
       "      <th>index</th>\n",
       "      <th>keyword</th>\n",
       "      <th>month</th>\n",
       "      <th>year</th>\n",
       "    </tr>\n",
       "  </thead>\n",
       "  <tbody>\n",
       "    <tr>\n",
       "      <th>0</th>\n",
       "      <td>관부가세 납부했는데        낮에 문자 받고 관부가세를 카드로택스에 접속해서 카...</td>\n",
       "      <td>0</td>\n",
       "      <td>해외직구</td>\n",
       "      <td>8</td>\n",
       "      <td>2014</td>\n",
       "    </tr>\n",
       "    <tr>\n",
       "      <th>1</th>\n",
       "      <td>10월에 실시하는 위약4 관련해서 중국핸드폰업체들이 바빠지기 시작한 모양이더군요  ...</td>\n",
       "      <td>1</td>\n",
       "      <td>해외직구</td>\n",
       "      <td>8</td>\n",
       "      <td>2014</td>\n",
       "    </tr>\n",
       "    <tr>\n",
       "      <th>2</th>\n",
       "      <td>60lb7100 전원안들어와서 as왔다갔네요        어제저녁에갑자기픽하고꺼지더...</td>\n",
       "      <td>2</td>\n",
       "      <td>해외직구</td>\n",
       "      <td>8</td>\n",
       "      <td>2014</td>\n",
       "    </tr>\n",
       "    <tr>\n",
       "      <th>3</th>\n",
       "      <td>해외직구 삼성 PDP F8500 모델 안테나 연결 단자 파손 / SOS       ...</td>\n",
       "      <td>3</td>\n",
       "      <td>해외직구</td>\n",
       "      <td>8</td>\n",
       "      <td>2014</td>\n",
       "    </tr>\n",
       "    <tr>\n",
       "      <th>4</th>\n",
       "      <td>아아 누크 hd도사서 누크hd+랑 세트만들려고하는뎅        누크hd 적당한 매...</td>\n",
       "      <td>4</td>\n",
       "      <td>해외직구</td>\n",
       "      <td>8</td>\n",
       "      <td>2014</td>\n",
       "    </tr>\n",
       "  </tbody>\n",
       "</table>\n",
       "</div>"
      ],
      "text/plain": [
       "                                                 VoC  index keyword  month  \\\n",
       "0  관부가세 납부했는데        낮에 문자 받고 관부가세를 카드로택스에 접속해서 카...      0    해외직구      8   \n",
       "1  10월에 실시하는 위약4 관련해서 중국핸드폰업체들이 바빠지기 시작한 모양이더군요  ...      1    해외직구      8   \n",
       "2  60lb7100 전원안들어와서 as왔다갔네요        어제저녁에갑자기픽하고꺼지더...      2    해외직구      8   \n",
       "3  해외직구 삼성 PDP F8500 모델 안테나 연결 단자 파손 / SOS       ...      3    해외직구      8   \n",
       "4  아아 누크 hd도사서 누크hd+랑 세트만들려고하는뎅        누크hd 적당한 매...      4    해외직구      8   \n",
       "\n",
       "   year  \n",
       "0  2014  \n",
       "1  2014  \n",
       "2  2014  \n",
       "3  2014  \n",
       "4  2014  "
      ]
     },
     "execution_count": 241,
     "metadata": {},
     "output_type": "execute_result"
    }
   ],
   "source": [
    "dataset2.head()"
   ]
  },
  {
   "cell_type": "code",
   "execution_count": 242,
   "metadata": {},
   "outputs": [],
   "source": [
    "#데이터셋 컬럼 원래대로 정렬하기\n",
    "cols = dataset2.columns.tolist()\n",
    "cols = ['index','year','month','VoC','keyword']"
   ]
  },
  {
   "cell_type": "code",
   "execution_count": 244,
   "metadata": {},
   "outputs": [
    {
     "data": {
      "text/plain": [
       "['index', 'year', 'month', 'VoC', 'keyword']"
      ]
     },
     "execution_count": 244,
     "metadata": {},
     "output_type": "execute_result"
    }
   ],
   "source": [
    "cols"
   ]
  },
  {
   "cell_type": "code",
   "execution_count": 249,
   "metadata": {},
   "outputs": [
    {
     "data": {
      "text/html": [
       "<div>\n",
       "<style scoped>\n",
       "    .dataframe tbody tr th:only-of-type {\n",
       "        vertical-align: middle;\n",
       "    }\n",
       "\n",
       "    .dataframe tbody tr th {\n",
       "        vertical-align: top;\n",
       "    }\n",
       "\n",
       "    .dataframe thead th {\n",
       "        text-align: right;\n",
       "    }\n",
       "</style>\n",
       "<table border=\"1\" class=\"dataframe\">\n",
       "  <thead>\n",
       "    <tr style=\"text-align: right;\">\n",
       "      <th></th>\n",
       "      <th>index</th>\n",
       "      <th>year</th>\n",
       "      <th>month</th>\n",
       "      <th>VoC</th>\n",
       "      <th>keyword</th>\n",
       "    </tr>\n",
       "  </thead>\n",
       "  <tbody>\n",
       "    <tr>\n",
       "      <th>0</th>\n",
       "      <td>0</td>\n",
       "      <td>2014</td>\n",
       "      <td>8</td>\n",
       "      <td>관부가세 납부했는데        낮에 문자 받고 관부가세를 카드로택스에 접속해서 카...</td>\n",
       "      <td>해외직구</td>\n",
       "    </tr>\n",
       "    <tr>\n",
       "      <th>1</th>\n",
       "      <td>1</td>\n",
       "      <td>2014</td>\n",
       "      <td>8</td>\n",
       "      <td>10월에 실시하는 위약4 관련해서 중국핸드폰업체들이 바빠지기 시작한 모양이더군요  ...</td>\n",
       "      <td>해외직구</td>\n",
       "    </tr>\n",
       "    <tr>\n",
       "      <th>2</th>\n",
       "      <td>2</td>\n",
       "      <td>2014</td>\n",
       "      <td>8</td>\n",
       "      <td>60lb7100 전원안들어와서 as왔다갔네요        어제저녁에갑자기픽하고꺼지더...</td>\n",
       "      <td>해외직구</td>\n",
       "    </tr>\n",
       "    <tr>\n",
       "      <th>3</th>\n",
       "      <td>3</td>\n",
       "      <td>2014</td>\n",
       "      <td>8</td>\n",
       "      <td>해외직구 삼성 PDP F8500 모델 안테나 연결 단자 파손 / SOS       ...</td>\n",
       "      <td>해외직구</td>\n",
       "    </tr>\n",
       "    <tr>\n",
       "      <th>4</th>\n",
       "      <td>4</td>\n",
       "      <td>2014</td>\n",
       "      <td>8</td>\n",
       "      <td>아아 누크 hd도사서 누크hd+랑 세트만들려고하는뎅        누크hd 적당한 매...</td>\n",
       "      <td>해외직구</td>\n",
       "    </tr>\n",
       "  </tbody>\n",
       "</table>\n",
       "</div>"
      ],
      "text/plain": [
       "   index  year  month                                                VoC  \\\n",
       "0      0  2014      8  관부가세 납부했는데        낮에 문자 받고 관부가세를 카드로택스에 접속해서 카...   \n",
       "1      1  2014      8  10월에 실시하는 위약4 관련해서 중국핸드폰업체들이 바빠지기 시작한 모양이더군요  ...   \n",
       "2      2  2014      8  60lb7100 전원안들어와서 as왔다갔네요        어제저녁에갑자기픽하고꺼지더...   \n",
       "3      3  2014      8  해외직구 삼성 PDP F8500 모델 안테나 연결 단자 파손 / SOS       ...   \n",
       "4      4  2014      8  아아 누크 hd도사서 누크hd+랑 세트만들려고하는뎅        누크hd 적당한 매...   \n",
       "\n",
       "  keyword  \n",
       "0    해외직구  \n",
       "1    해외직구  \n",
       "2    해외직구  \n",
       "3    해외직구  \n",
       "4    해외직구  "
      ]
     },
     "execution_count": 249,
     "metadata": {},
     "output_type": "execute_result"
    }
   ],
   "source": [
    "dataset2 = dataset2[cols]\n",
    "dataset2.head()"
   ]
  },
  {
   "cell_type": "code",
   "execution_count": 172,
   "metadata": {},
   "outputs": [],
   "source": [
    "writer = pd.ExcelWriter('dataset3_prcsing.xlsx', options={'strings_to_urls':False})\n",
    "dataset2.to_excel(writer,'Sheet1')\n",
    "writer.save()"
   ]
  },
  {
   "cell_type": "code",
   "execution_count": null,
   "metadata": {},
   "outputs": [],
   "source": [
    "dataset2.loc[54]['VoC']"
   ]
  },
  {
   "cell_type": "code",
   "execution_count": null,
   "metadata": {},
   "outputs": [],
   "source": [
    "cols"
   ]
  },
  {
   "cell_type": "code",
   "execution_count": null,
   "metadata": {},
   "outputs": [],
   "source": []
  }
 ],
 "metadata": {
  "kernelspec": {
   "display_name": "Python 3",
   "language": "python",
   "name": "python3"
  },
  "language_info": {
   "codemirror_mode": {
    "name": "ipython",
    "version": 3
   },
   "file_extension": ".py",
   "mimetype": "text/x-python",
   "name": "python",
   "nbconvert_exporter": "python",
   "pygments_lexer": "ipython3",
   "version": "3.6.4"
  }
 },
 "nbformat": 4,
 "nbformat_minor": 2
}
