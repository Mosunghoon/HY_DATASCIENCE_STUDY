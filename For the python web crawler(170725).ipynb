{
 "cells": [
  {
   "cell_type": "markdown",
   "metadata": {},
   "source": [
    "# Lecture : Python Web Crawler"
   ]
  },
  {
   "cell_type": "code",
   "execution_count": 2,
   "metadata": {
    "collapsed": true
   },
   "outputs": [],
   "source": [
    "# crawling, 데이터를 긁다. 웹 스크래핑.\n",
    "# nomade.kr 강의."
   ]
  },
  {
   "cell_type": "code",
   "execution_count": 3,
   "metadata": {
    "collapsed": true
   },
   "outputs": [],
   "source": [
    "# ajax, json이라고 해서 서버와 클라이언트의 비동기적인 통신방식.\n",
    "# 사용자는 새로고침하지 않았는데 마우스를 휘저으면 그 이면에서 데이터를 받아오는 그런 방식들이 있다.\n",
    "# 자바스크립트 안에 숨겨놓기도 않다.\n",
    "# 날씨를 매일매일 어디서 긁어와서 알려주는 방식, 챗봇을 만드는 데 유용\n",
    "# 좌석에매 명령을 줘서 좋은 좌석을 찾아 예매까지 연결되는 방법도 개발 가능"
   ]
  },
  {
   "cell_type": "code",
   "execution_count": 4,
   "metadata": {
    "collapsed": true
   },
   "outputs": [],
   "source": [
    "# HTML의 경우 되게 쉽지만\n",
    "# JSON이나 자바스크립트 통해 처리하는 경우면 굉장히 복잡하다\n",
    "# 인증이 필요하거나\n",
    "# 독자적인 웹 프레임워크가 있은 경우\n",
    "# Active X가 있는 경우에는 굉장히 어려워진다"
   ]
  },
  {
   "cell_type": "code",
   "execution_count": 5,
   "metadata": {
    "collapsed": true
   },
   "outputs": [],
   "source": [
    "# 웹페이지 샘플"
   ]
  },
  {
   "cell_type": "code",
   "execution_count": 13,
   "metadata": {
    "collapsed": true
   },
   "outputs": [],
   "source": [
    "## 레벨1 도장깨기 - HTML 사이트 크롤링"
   ]
  },
  {
   "cell_type": "code",
   "execution_count": 16,
   "metadata": {
    "collapsed": true
   },
   "outputs": [],
   "source": [
    "### from bs4 import BeautifulSoup\n",
    "### soup = BeautifulSoup(html_doc, 'html.parser')\n",
    "#### BeautifulSoup 생성자에서 html_doc를 파싱하고\n",
    "#### 그 결과를 BeautifulSoup 객체로 반환한다."
   ]
  },
  {
   "cell_type": "code",
   "execution_count": null,
   "metadata": {
    "collapsed": true
   },
   "outputs": [],
   "source": []
  },
  {
   "cell_type": "code",
   "execution_count": 3,
   "metadata": {
    "scrolled": true
   },
   "outputs": [
    {
     "name": "stdout",
     "output_type": "stream",
     "text": [
      "<a href=\"https://nomade.kr/vod/setup/\">개발환경 구축하기</a>\n",
      "개발환경 구축하기 https://nomade.kr/vod/setup/\n",
      "<a href=\"https://nomade.kr/vod/python/\">파이썬 차근차근 시작하기</a>\n",
      "파이썬 차근차근 시작하기 https://nomade.kr/vod/python/\n",
      "<a href=\"https://nomade.kr/vod/crawling/\">크롤링 차근차근 시작하기</a>\n",
      "크롤링 차근차근 시작하기 https://nomade.kr/vod/crawling/\n",
      "<a href=\"https://nomade.kr/vod/automation/\">파이썬으로 업무 자동화</a>\n",
      "파이썬으로 업무 자동화 https://nomade.kr/vod/automation/\n",
      "<a href=\"https://nomade.kr/vod/django/\">장고 - 기본편</a>\n",
      "장고 - 기본편 https://nomade.kr/vod/django/\n",
      "<a href=\"https://nomade.kr/vod/djangogirls/\">장고걸스 튜토리얼</a>\n",
      "장고걸스 튜토리얼 https://nomade.kr/vod/djangogirls/\n",
      "<a href=\"https://nomade.kr/vod/form/\">장고 - Form/ModelForm 잘 알고 쓰기</a>\n",
      "장고 - Form/ModelForm 잘 알고 쓰기 https://nomade.kr/vod/form/\n",
      "<a href=\"https://nomade.kr/vod/cbv/\">장고 - 클래스 기반 뷰. 잘 알고 쓰기</a>\n",
      "장고 - 클래스 기반 뷰. 잘 알고 쓰기 https://nomade.kr/vod/cbv/\n",
      "<a href=\"https://nomade.kr/vod/payment/\">장고 - 결제 시스템 연동</a>\n",
      "장고 - 결제 시스템 연동 https://nomade.kr/vod/payment/\n",
      "<a href=\"https://nomade.kr/vod/frontend/\">장고 - 웹 프론트엔드 시작편</a>\n",
      "장고 - 웹 프론트엔드 시작편 https://nomade.kr/vod/frontend/\n",
      "<a href=\"https://nomade.kr/vod/widgets/\">장고 - 다양한 위젯 만들기</a>\n",
      "장고 - 다양한 위젯 만들기 https://nomade.kr/vod/widgets/\n",
      "<a href=\"https://nomade.kr/vod/apiserver/\">장고 - API 서버 만들기 및 초간단 안드로이드 앱 만들기</a>\n",
      "장고 - API 서버 만들기 및 초간단 안드로이드 앱 만들기 https://nomade.kr/vod/apiserver/\n",
      "<a href=\"https://nomade.kr/vod/hybrid/\">장고 - 하이브리드 앱 만들기</a>\n",
      "장고 - 하이브리드 앱 만들기 https://nomade.kr/vod/hybrid/\n",
      "<a href=\"https://nomade.kr/vod/deploy/\">장고 - 서비스 배포하기</a>\n",
      "장고 - 서비스 배포하기 https://nomade.kr/vod/deploy/\n",
      "<a href=\"https://nomade.kr/vod/django-baemin/\">장고 - 실전편 (Feat. 배달의 민족 St. 만들기)</a>\n",
      "장고 - 실전편 (Feat. 배달의 민족 St. 만들기) https://nomade.kr/vod/django-baemin/\n",
      "<a href=\"https://nomade.kr/vod/django-instagram/\">장고 - 실전편 (Feat. 인스타그램 St. 만들기)</a>\n",
      "장고 - 실전편 (Feat. 인스타그램 St. 만들기) https://nomade.kr/vod/django-instagram/\n"
     ]
    }
   ],
   "source": [
    "import requests\n",
    "from bs4 import BeautifulSoup\n",
    "\n",
    "lv1_url = 'https://askdjango.github.io/lv1/'\n",
    "html = requests.get(lv1_url).text\n",
    "#print(html)\n",
    "soup = BeautifulSoup(html, 'html.parser')\n",
    "\n",
    "#### 여기서 #course_list는 F12로 개발자 툴을 켰을 때 등장하는 ul#course_list를 말한다.\n",
    "#### 그리고 뒤의 > 표시는 그 안에 자리잡은 li.course의 .course를 의미한다.\n",
    "#### 다시 그 안의 a태그에 해당하는 것을 선택하는 것이다.\n",
    "#### 아래 코딩에서 tag를 print한다면 이러한 결과가 등장한다.\n",
    "#### <a href=\"https://nomade.kr/vod/setup/\">개발환경 구축하기</a>\n",
    "#### a 태그에 해당하는 텍스트 전문을 찾아서 표시해준다.\n",
    "#### tag['href']는 <a href에 해당하는 값을 찾아서 표시해주는 것이다.\n",
    "#### 지금 이 텍스트에서는 url 링크에 해당한다.\n",
    "for tag in soup.select('#course_list > .course > a'):\n",
    "    print(tag)\n",
    "    print(tag.text, tag['href'])"
   ]
  },
  {
   "cell_type": "code",
   "execution_count": 10,
   "metadata": {
    "collapsed": true
   },
   "outputs": [],
   "source": [
    "## 레벨2 도장꺠기 - HTML 사이트 크롤링"
   ]
  },
  {
   "cell_type": "code",
   "execution_count": 9,
   "metadata": {
    "scrolled": true
   },
   "outputs": [
    {
     "name": "stdout",
     "output_type": "stream",
     "text": [
      "개발환경 구축하기 https://nomade.kr/vod/setup/\n",
      "파이썬 차근차근 시작하기 https://nomade.kr/vod/python/\n",
      "크롤링 차근차근 시작하기 https://nomade.kr/vod/crawling/\n",
      "파이썬으로 업무 자동화 https://nomade.kr/vod/automation/\n",
      "장고 - 기본편 https://nomade.kr/vod/django/\n",
      "장고걸스 튜토리얼 https://nomade.kr/vod/djangogirls/\n",
      "장고 - Form/ModelForm 잘 알고 쓰기 https://nomade.kr/vod/form/\n",
      "장고 - 클래스 기반 뷰. 잘 알고 쓰기 https://nomade.kr/vod/cbv/\n",
      "장고 - 결제 시스템 연동 https://nomade.kr/vod/payment/\n",
      "장고 - 웹 프론트엔드 시작편 https://nomade.kr/vod/frontend/\n",
      "장고 - 다양한 위젯 만들기 https://nomade.kr/vod/widgets/\n",
      "장고 - API 서버 만들기 및 초간단 안드로이드 앱 만들기 https://nomade.kr/vod/apiserver/\n",
      "장고 - 하이브리드 앱 만들기 https://nomade.kr/vod/hybrid/\n",
      "장고 - 서비스 배포하기 https://nomade.kr/vod/deploy/\n",
      "장고 - 실전편 (Feat. 배달의 민족 St. 만들기) https://nomade.kr/vod/django-baemin/\n",
      "장고 - 실전편 (Feat. 인스타그램 St. 만들기) https://nomade.kr/vod/django-instagram/\n"
     ]
    }
   ],
   "source": [
    "import requests\n",
    "\n",
    "lv2_url = 'https://askdjango.github.io/lv2/data.json'\n",
    "course_list = requests.get(lv2_url).json()\n",
    "\n",
    "for course in course_list:\n",
    "    print(course['name'], course['url'])"
   ]
  },
  {
   "cell_type": "code",
   "execution_count": null,
   "metadata": {
    "collapsed": true
   },
   "outputs": [],
   "source": [
    "## 레벨3 도장꺠기 - HTML 사이트 크롤링"
   ]
  },
  {
   "cell_type": "code",
   "execution_count": 5,
   "metadata": {},
   "outputs": [
    {
     "name": "stdout",
     "output_type": "stream",
     "text": [
      "레벨3 도장깨기 - 자바스크립트 렌더링 크롤링\n",
      "<!doctype html>\n",
      "<html lang=\"ko\">\n",
      "<head>\n",
      "<meta charset=\"utf-8\" />\n",
      "<title>[레벨3] 자바스크립트 렌더링 크롤링</title>\n",
      "<style>\n",
      "#logo {\n",
      "    max-width: 100%;\n",
      "}\n",
      "</style>\n",
      "<script src=\"https://code.jquery.com/jquery-2.2.4.min.js\"></script>\n",
      "<script>\n",
      "$(function() {\n",
      "    var courses = [\n",
      "        {\"name\": \"개발환경 구축하기\", \"url\": \"https://nomade.kr/vod/setup/\"},\n",
      "        {\"name\": \"파이썬 차근차근 시작하기\", \"url\": \"https://nomade.kr/vod/python/\"},\n",
      "        {\"name\": \"크롤링 차근차근 시작하기\", \"url\": \"https://nomade.kr/vod/crawling/\"},\n",
      "        {\"name\": \"파이썬으로 업무 자동화\", \"url\": \"https://nomade.kr/vod/automation/\"},\n",
      "        {\"name\": \"장고 - 기본편\", \"url\": \"https://nomade.kr/vod/django/\"},\n",
      "        {\"name\": \"장고걸스 튜토리얼\", \"url\": \"https://nomade.kr/vod/djangogirls/\"},\n",
      "        {\"name\": \"장고 - Form/ModelForm 잘 알고 쓰기\", \"url\": \"https://nomade.kr/vod/form/\"},\n",
      "        {\"name\": \"장고 - 클래스 기반 뷰. 잘 알고 쓰기\", \"url\": \"https://nomade.kr/vod/cbv/\"},\n",
      "        {\"name\": \"장고 - 결제 시스템 연동\", \"url\": \"https://nomade.kr/vod/payment/\"},\n",
      "        {\"name\": \"장고 - 웹 프론트엔드 시작편\", \"url\": \"https://nomade.kr/vod/frontend/\"},\n",
      "        {\"name\": \"장고 - 다양한 위젯 만들기\", \"url\": \"https://nomade.kr/vod/widgets/\"},\n",
      "        {\"name\": \"장고 - API 서버 만들기 및 초간단 안드로이드 앱 만들기\", \"url\": \"https://nomade.kr/vod/apiserver/\"},\n",
      "        {\"name\": \"장고 - 하이브리드 앱 만들기\", \"url\": \"https://nomade.kr/vod/hybrid/\"},\n",
      "        {\"name\": \"장고 - 서비스 배포하기\", \"url\": \"https://nomade.kr/vod/deploy/\"},\n",
      "        {\"name\": \"장고 - 실전편 (Feat. 배달의 민족 St. 만들기)\", \"url\": \"https://nomade.kr/vod/django-baemin/\"},\n",
      "        {\"name\": \"장고 - 실전편 (Feat. 인스타그램 St. 만들기)\", \"url\": \"https://nomade.kr/vod/django-instagram/\"}\n",
      "    ];\n",
      "    $.each(courses, function(idx, course) {\n",
      "        var html = '<li class=\"course\"><a href=\"' + course.url + '\">' + course.name + '</a></li>';\n",
      "        $('#course_list').append($(html));\n",
      "    });\n",
      "});\n",
      "</script>\n",
      "</head>\n",
      "<body>\n",
      "<h1>AskDjango VOD</h1>\n",
      "\n",
      "<h2>[레벨3] 자바스크립트 렌더링 크롤링</h2>\n",
      "\n",
      "<p>본 페이지는 Ajax를 통해 데이터를 받아와서, 자바스크립트로 컨텐츠가 추가됩니다.</p>\n",
      "\n",
      "<ul id=\"course_list\">\n",
      "</ul>\n",
      "\n",
      "<img src=\"https://nomade.kr/static/2017031408/nomadekr-og.jpg\" id=\"logo\" />\n",
      "\n",
      "<hr/>\n",
      "\n",
      "<h3>미션</h3>\n",
      "\n",
      "<ul>\n",
      "    <li>위 VOD 코스의 코스명과 URL을 크롤링</li>\n",
      "    <li>제약사항 : requests 라이브러리만을 사용하세요.</li>\n",
      "</ul>\n",
      "\n",
      "실행 예시\n",
      "\n",
      "<pre>\n",
      "    개발환경 구축하기 https://nomade.kr/vod/setup/\n",
      "    파이썬 차근차근 시작하기 https://nomade.kr/vod/python/\n",
      "    크롤링 차근차근 시작하기 https://nomade.kr/vod/crawling/\n",
      "    파이썬으로 업무 자동화 https://nomade.kr/vod/automation/\n",
      "    장고 - 기본편 https://nomade.kr/vod/django/\n",
      "    장고걸스 튜토리얼 https://nomade.kr/vod/djangogirls/\n",
      "    장고 - Form/ModelForm 잘 알고 쓰기 https://nomade.kr/vod/form/\n",
      "    장고 - 클래스 기반 뷰. 잘 알고 쓰기 https://nomade.kr/vod/cbv/\n",
      "    장고 - 결제 시스템 연동 https://nomade.kr/vod/payment/\n",
      "    장고 - 웹 프론트엔드 시작편 https://nomade.kr/vod/frontend/\n",
      "    장고 - 다양한 위젯 만들기 https://nomade.kr/vod/widgets/\n",
      "    장고 - API 서버 만들기 및 초간단 안드로이드 앱 만들기 https://nomade.kr/vod/apiserver/\n",
      "    장고 - 하이브리드 앱 만들기 https://nomade.kr/vod/hybrid/\n",
      "    장고 - 서비스 배포하기 https://nomade.kr/vod/deploy/\n",
      "    장고 - 실전편 (Feat. 배달의 민족 St. 만들기) https://nomade.kr/vod/django-baemin/\n",
      "    장고 - 실전편 (Feat. 인스타그램 St. 만들기) https://nomade.kr/vod/django-instagram/\n",
      "</pre>\n",
      "\n",
      "<p>AskDjango 크롤링 VOD를 통해 크롤링의 기본을 배우고, 꾸준히 크롤링을 연습해보세요.</p>\n",
      "\n",
      "<hr/>\n",
      "    <p><a href=\"/\">home</a></p>\n",
      "    <p>\n",
      "    여러분의 파이썬/장고 페이스메이커가 되겠습니다. &dash; <a href=\"https://nomade.kr/vod/\">AskDjango VOD</a>\n",
      "    </p>\n",
      "    <p>\n",
      "    &copy;\n",
      "    <script>document.write((new Date()).getYear() + 1900);</script>\n",
      "    SHAKEADE\n",
      "</p>\n",
      "</body>\n",
      "</html>\n",
      "\n"
     ]
    }
   ],
   "source": [
    "print('레벨3 도장깨기 - 자바스크립트 렌더링 크롤링')\n",
    "\n",
    "import json\n",
    "import re #정규표현식 라이브러리\n",
    "import requests\n",
    "\n",
    "lv3_url = 'https://askdjango.github.io/lv3/' #크롤링할 주소\n",
    "html2 = requests.get(lv3_url).text\n",
    "print(html2)\n",
    "# 정규표현식으로 내용 발취\n",
    "matched = re.search(r'var courses = (.+?);', html2, re.S) # re.S는 개행이 있음을 알림\n",
    "json_string2 = matched.group(1)\n",
    "#print(json_string2)\n",
    "course_list2 = json.loads(json_string2)\n",
    "\n",
    "#for course in course_list2:\n",
    "#    print('{name} {url}'.format(**course))"
   ]
  },
  {
   "cell_type": "code",
   "execution_count": null,
   "metadata": {
    "collapsed": true
   },
   "outputs": [],
   "source": []
  }
 ],
 "metadata": {
  "kernelspec": {
   "display_name": "Python 3",
   "language": "python",
   "name": "python3"
  },
  "language_info": {
   "codemirror_mode": {
    "name": "ipython",
    "version": 3
   },
   "file_extension": ".py",
   "mimetype": "text/x-python",
   "name": "python",
   "nbconvert_exporter": "python",
   "pygments_lexer": "ipython3",
   "version": "3.6.1"
  }
 },
 "nbformat": 4,
 "nbformat_minor": 2
}
